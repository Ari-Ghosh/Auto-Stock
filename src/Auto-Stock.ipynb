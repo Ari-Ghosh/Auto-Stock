{
 "cells": [
  {
   "cell_type": "markdown",
   "id": "3937aad8-2267-40b2-b61a-e2999a5633fd",
   "metadata": {},
   "source": [
    "## IMPORT LIBRARIES"
   ]
  },
  {
   "cell_type": "code",
   "execution_count": 1,
   "id": "2232a2c2-9760-4129-b28c-252d9ca70db6",
   "metadata": {},
   "outputs": [],
   "source": [
    "import pandas as pd\n",
    "import numpy as np\n",
    "import yfinance as yf\n",
    "import matplotlib.pyplot as plt\n",
    "from math import floor\n",
    "from sklearn.model_selection import train_test_split\n",
    "import torch\n",
    "import torch.nn as nn\n",
    "import torch.optim as optim\n",
    "from torch.utils.data import TensorDataset, DataLoader"
   ]
  },
  {
   "cell_type": "markdown",
   "id": "63af646a-88d1-40a5-b88d-9b5fe90ad647",
   "metadata": {},
   "source": [
    "## PARAMETER GRID"
   ]
  },
  {
   "cell_type": "code",
   "execution_count": 2,
   "id": "db6a1359-0520-4470-83fd-d7497d540e48",
   "metadata": {},
   "outputs": [],
   "source": [
    "slow_range = range(10, 31, 2)\n",
    "fast_range = range(5, 21, 2)\n",
    "smooth_range = range(5, 16, 2)"
   ]
  },
  {
   "cell_type": "markdown",
   "id": "46db1378-3c04-4682-ab1a-2df29ea56bf0",
   "metadata": {},
   "source": [
    "## Create a DataFrame to store combinations of parameters"
   ]
  },
  {
   "cell_type": "code",
   "execution_count": 3,
   "id": "19325c82-7b5f-4cc0-9f61-284beca3d03c",
   "metadata": {},
   "outputs": [],
   "source": [
    "param_grid = pd.DataFrame([(slow, fast, smooth) for slow in slow_range for fast in fast_range for smooth in smooth_range],\n",
    "                          columns=['slow', 'fast', 'smooth'])"
   ]
  },
  {
   "cell_type": "markdown",
   "id": "0049e046-9c0b-424c-9e39-1313f97a088c",
   "metadata": {},
   "source": [
    "## FUNCTION TO CALCULATE MACD"
   ]
  },
  {
   "cell_type": "code",
   "execution_count": 4,
   "id": "60d4c0e2-561c-4162-80d0-c75eb5335fdd",
   "metadata": {},
   "outputs": [],
   "source": [
    "def get_macd(price, slow, fast, smooth):\n",
    "    exp1 = price.ewm(span=fast, adjust=False).mean()\n",
    "    exp2 = price.ewm(span=slow, adjust=False).mean()\n",
    "    macd = pd.DataFrame(exp1 - exp2).rename(columns={'Close': 'macd'})\n",
    "    signal = pd.DataFrame(macd.ewm(span=smooth, adjust=False).mean()).rename(columns={'macd': 'signal'})\n",
    "    hist = pd.DataFrame(macd['macd'] - signal['signal']).rename(columns={0: 'hist'})\n",
    "    return macd, signal, hist"
   ]
  },
  {
   "cell_type": "markdown",
   "id": "57017647-c9a3-4c51-8d82-7a94ca5ee1bc",
   "metadata": {},
   "source": [
    "## EXTRACTING STOCK DATA"
   ]
  },
  {
   "cell_type": "code",
   "execution_count": 8,
   "id": "df1fddc7-882d-41e5-ad09-c7535fdbaf33",
   "metadata": {},
   "outputs": [],
   "source": [
    "def get_historical_data(symbol):\n",
    "    df = yf.Ticker(symbol)\n",
    "    df = df.history(period=\"max\")\n",
    "    print(df)\n",
    "    print(df.index)\n",
    "    del df[\"Dividends\"]\n",
    "    del df[\"Stock Splits\"]\n",
    "    print(df)\n",
    "\n",
    "    traindf = df[df.index < \"2021-01-01\"]\n",
    "    validationdf = df[df.index < \"2023-01-01\"]\n",
    "    validationdf = validationdf[validationdf.index >= \"2021-01-01\"]\n",
    "    testdf = df[df.index >= \"2023-01-01\"]\n",
    "    print(traindf)\n",
    "    print(validationdf)\n",
    "    print(testdf)\n",
    "\n",
    "    return traindf, validationdf, testdf\n",
    "\n",
    "traindf, validationdf, testdf = get_historical_data(stock_symbol)\n",
    "print(traindf)\n",
    "print(validationdf)\n",
    "print(testdf)"
   ]
  },
  {
   "cell_type": "markdown",
   "id": "77f9b885-f233-4411-aa35-e608a8c3b5af",
   "metadata": {},
   "source": [
    "## Prepare your data and create feature-target pairs"
   ]
  },
  {
   "cell_type": "code",
   "execution_count": 9,
   "id": "1a7e2b12-347d-4551-8574-54c6614b5dfc",
   "metadata": {},
   "outputs": [],
   "source": [
    "def prepare_data(symbol):\n",
    "    data = get_historical_data(symbol)\n",
    "    X = []\n",
    "    y = []\n",
    "\n",
    "    for i in range(len(data)):\n",
    "        close = data['Close'][:i+1]  # Adjust based on your need for historical data\n",
    "        for slow, fast, smooth in zip(param_grid['slow'], param_grid['fast'], param_grid['smooth']):\n",
    "            _, _, hist = get_macd(close, slow, fast, smooth)\n",
    "            X.append(hist.values.flatten())\n",
    "            y.append((slow, fast, smooth))\n",
    "\n",
    "    return np.array(X), np.array(y)"
   ]
  },
  {
   "cell_type": "markdown",
   "id": "acfb852d-9ad6-4242-9ca0-aef731e0957a",
   "metadata": {},
   "source": [
    "## Split the data into training and testing sets"
   ]
  },
  {
   "cell_type": "code",
   "execution_count": null,
   "id": "d5596576-679c-4647-b169-0e22cf3a77eb",
   "metadata": {},
   "outputs": [
    {
     "name": "stdin",
     "output_type": "stream",
     "text": [
      "Enter the Stock Symbol (^NSEI):   ^NSEI\n"
     ]
    }
   ],
   "source": [
    "symbol = input(\"Enter the Stock Symbol (^NSEI):  \");\n",
    "X, y = prepare_data(symbol)\n",
    "print(X, y)\n",
    "X_train, X_test, y_train, y_test = train_test_split(X, y, test_size=0.2, random_state=42)"
   ]
  },
  {
   "cell_type": "markdown",
   "id": "5ca3da53-60ab-4913-8355-c32ce3c65ddf",
   "metadata": {},
   "source": [
    "## Convert data to PyTorch tensors"
   ]
  },
  {
   "cell_type": "code",
   "execution_count": null,
   "id": "04c2b8a9-8719-484b-8a31-d6a133e5b097",
   "metadata": {},
   "outputs": [],
   "source": [
    "X_train_tensor = torch.tensor(X_train, dtype=torch.float32)\n",
    "y_train_tensor = torch.tensor(y_train, dtype=torch.float32)\n",
    "X_test_tensor = torch.tensor(X_test, dtype=torch.float32)\n",
    "y_test_tensor = torch.tensor(y_test, dtype=torch.float32)"
   ]
  },
  {
   "cell_type": "markdown",
   "id": "6da67f5c-417c-49bc-bcfb-2c35e6c73476",
   "metadata": {},
   "source": [
    "## CNN model"
   ]
  },
  {
   "cell_type": "code",
   "execution_count": null,
   "id": "a52ea29e-2520-4a35-85da-180c029c795a",
   "metadata": {},
   "outputs": [],
   "source": [
    "class CNN(nn.Module):\n",
    "    def __init__(self):\n",
    "        super(CNN, self).__init__()\n",
    "        self.conv1 = nn.Conv1d(1, 64, kernel_size=3)\n",
    "        self.flatten = nn.Flatten()\n",
    "        self.fc1 = nn.Linear(64 * (X_train.shape[1] - 2), 128)\n",
    "        self.fc2 = nn.Linear(128, 64)\n",
    "        self.fc3 = nn.Linear(64, 3)  # 3 parameters for slow, fast, smooth\n",
    "\n",
    "    def forward(self, x):\n",
    "        x = self.conv1(x)\n",
    "        x = torch.relu(x)\n",
    "        x = self.flatten(x)\n",
    "        x = self.fc1(x)\n",
    "        x = torch.relu(x)\n",
    "        x = self.fc2(x)\n",
    "        x = torch.relu(x)\n",
    "        x = self.fc3(x)\n",
    "        return x\n",
    "\n",
    "model = CNN()"
   ]
  },
  {
   "cell_type": "markdown",
   "id": "3c0662f6-0f43-4cb7-ade8-56b310618f1f",
   "metadata": {},
   "source": [
    "## Define loss function and optimizer"
   ]
  },
  {
   "cell_type": "code",
   "execution_count": null,
   "id": "877f03ad-7e22-4cf6-9e0b-7fd0f5c301e5",
   "metadata": {},
   "outputs": [],
   "source": [
    "criterion = nn.MSELoss()\n",
    "optimizer = optim.Adam(model.parameters(), lr=0.001)"
   ]
  },
  {
   "cell_type": "markdown",
   "id": "7d3ab795-51db-4f72-8597-92c607b7a6e2",
   "metadata": {},
   "source": [
    "## Create DataLoader for training"
   ]
  },
  {
   "cell_type": "code",
   "execution_count": null,
   "id": "efdb658b-3ba3-46e2-92ce-545b97f476ba",
   "metadata": {},
   "outputs": [],
   "source": [
    "train_dataset = TensorDataset(X_train_tensor.unsqueeze(1), y_train_tensor)\n",
    "train_loader = DataLoader(train_dataset, batch_size=32, shuffle=True)"
   ]
  },
  {
   "cell_type": "markdown",
   "id": "164be247-a5c4-45eb-92d2-c63585f8ec2e",
   "metadata": {},
   "source": [
    "## Train the model"
   ]
  },
  {
   "cell_type": "code",
   "execution_count": null,
   "id": "82201407-38f7-4f77-a456-550fdcc1c4f4",
   "metadata": {},
   "outputs": [],
   "source": [
    "num_epochs = 10\n",
    "for epoch in range(num_epochs):\n",
    "    for inputs, targets in train_loader:\n",
    "        optimizer.zero_grad()\n",
    "        outputs = model(inputs)\n",
    "        loss = criterion(outputs, targets)\n",
    "        loss.backward()\n",
    "        optimizer.step()\n",
    "    print(f'Epoch [{epoch+1}/{num_epochs}], Loss: {loss.item()}')"
   ]
  },
  {
   "cell_type": "markdown",
   "id": "672fc799-f775-4378-b54a-3b0244ca47db",
   "metadata": {},
   "source": [
    "## Evaluate the model"
   ]
  },
  {
   "cell_type": "code",
   "execution_count": null,
   "id": "07df9c87-3188-41bb-9cdd-987b4961d322",
   "metadata": {},
   "outputs": [],
   "source": [
    "with torch.no_grad():\n",
    "    outputs = model(X_test_tensor.unsqueeze(1))\n",
    "    test_loss = criterion(outputs, y_test_tensor)\n",
    "    print(f'Test Loss: {test_loss.item()}')"
   ]
  },
  {
   "cell_type": "markdown",
   "id": "42b88ebe-f218-4cb8-990c-45cb3f800d53",
   "metadata": {},
   "source": [
    "## Predict optimal parameters"
   ]
  },
  {
   "cell_type": "code",
   "execution_count": null,
   "id": "af5107b4-daec-46f5-a367-a7c01bf4ce4a",
   "metadata": {},
   "outputs": [],
   "source": [
    "predicted_params = model(X_test_tensor.unsqueeze(1))"
   ]
  },
  {
   "cell_type": "markdown",
   "id": "bda0389f-2608-4753-bf6d-555bfbbb9542",
   "metadata": {},
   "source": [
    "## Visualize the predicted parameters and compare with actual parameters"
   ]
  },
  {
   "cell_type": "code",
   "execution_count": null,
   "id": "830136f0-dba1-4d73-a67c-ca5015bc12c0",
   "metadata": {},
   "outputs": [],
   "source": [
    "plt.figure(figsize=(10, 6))\n",
    "plt.plot(y_test[:, 0], label='Actual Slow', color='blue')\n",
    "plt.plot(predicted_params[:, 0].detach().numpy(), label='Predicted Slow', color='red')\n",
    "plt.plot(y_test[:, 1], label='Actual Fast', color='green')\n",
    "plt.plot(predicted_params[:, 1].detach().numpy(), label='Predicted Fast', color='orange')\n",
    "plt.plot(y_test[:, 2], label='Actual Smooth', color='purple')\n",
    "plt.plot(predicted_params[:, 2].detach().numpy(), label='Predicted Smooth', color='brown')\n",
    "plt.legend()\n",
    "plt.title('Optimized MACD Parameters Prediction')\n",
    "plt.xlabel('Sample')\n",
    "plt.ylabel('Parameter Value')\n",
    "plt.show()"
   ]
  }
 ],
 "metadata": {
  "kernelspec": {
   "display_name": "Python 3 (ipykernel)",
   "language": "python",
   "name": "python3"
  },
  "language_info": {
   "codemirror_mode": {
    "name": "ipython",
    "version": 3
   },
   "file_extension": ".py",
   "mimetype": "text/x-python",
   "name": "python",
   "nbconvert_exporter": "python",
   "pygments_lexer": "ipython3",
   "version": "3.11.5"
  }
 },
 "nbformat": 4,
 "nbformat_minor": 5
}
